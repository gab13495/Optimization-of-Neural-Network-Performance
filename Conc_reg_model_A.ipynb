{
 "cells": [
  {
   "cell_type": "markdown",
   "id": "add19051-e24a-4d0e-a21f-4dd84652de0d",
   "metadata": {},
   "source": [
    "## Conc_Reg_Model_A  \n",
    "by Alex Kukh : \n",
    "## Build a baseline model"
   ]
  },
  {
   "cell_type": "code",
   "execution_count": 77,
   "id": "944bf05a-3f50-4831-a0d4-cf9b8f3d630e",
   "metadata": {
    "tags": []
   },
   "outputs": [],
   "source": [
    "import pandas as pd\n",
    "import numpy as np"
   ]
  },
  {
   "cell_type": "code",
   "execution_count": 78,
   "id": "9dd67298-8de8-471c-9c7d-960517528252",
   "metadata": {
    "tags": []
   },
   "outputs": [],
   "source": [
    "import keras\n",
    "from keras.models import Sequential\n",
    "from keras.layers import Dense\n",
    "from sklearn.model_selection import train_test_split\n",
    "from sklearn.metrics import mean_squared_error"
   ]
  },
  {
   "cell_type": "code",
   "execution_count": 79,
   "id": "3dfa1706-e15a-4a87-b376-81bb119fc254",
   "metadata": {
    "tags": []
   },
   "outputs": [],
   "source": [
    "concrete_data = pd.read_csv('https://s3-api.us-geo.objectstorage.softlayer.net/cf-courses-data/CognitiveClass/DL0101EN/labs/data/concrete_data.csv')\n",
    "\n",
    "#concrete_data.head() # show"
   ]
  },
  {
   "cell_type": "code",
   "execution_count": 80,
   "id": "85c1366c-310e-432e-a2ed-fa6daea07b24",
   "metadata": {
    "tags": []
   },
   "outputs": [],
   "source": [
    "#concrete_data.shape # show"
   ]
  },
  {
   "cell_type": "code",
   "execution_count": 81,
   "id": "b95a53af-bbc5-4232-9274-bad2c8070439",
   "metadata": {
    "tags": []
   },
   "outputs": [],
   "source": [
    "#concrete_data.describe() # show"
   ]
  },
  {
   "cell_type": "code",
   "execution_count": 82,
   "id": "be4a66ea-f24e-4e86-8288-d14018bb5a41",
   "metadata": {
    "tags": []
   },
   "outputs": [],
   "source": [
    "#concrete_data.isnull().sum() # show"
   ]
  },
  {
   "cell_type": "code",
   "execution_count": 83,
   "id": "bf2e7339-489a-427d-887a-1457577aebc5",
   "metadata": {
    "tags": []
   },
   "outputs": [],
   "source": [
    "# define regression model\n",
    "def regression_model(ncols):\n",
    "    # create model\n",
    "    model = Sequential()\n",
    "    model.add(Dense(10, activation='relu', input_shape=(ncols,)))\n",
    "    model.add(Dense(1))\n",
    "    \n",
    "    # compile model\n",
    "    model.compile(optimizer='adam', loss='mean_squared_error')\n",
    "    return model"
   ]
  },
  {
   "cell_type": "code",
   "execution_count": 84,
   "id": "babe3931-01ca-4f40-b23c-19dde75fa689",
   "metadata": {
    "tags": []
   },
   "outputs": [
    {
     "name": "stdout",
     "output_type": "stream",
     "text": [
      "MSE Score: 0 : 2563.7104712591918\n",
      "MSE Score: 1 : 126.93821256100222\n",
      "MSE Score: 2 : 344.98709883133444\n",
      "MSE Score: 3 : 119.48894390348417\n",
      "MSE Score: 4 : 144.37947479321735\n",
      "MSE Score: 5 : 123.10971104555686\n",
      "MSE Score: 6 : 139.05590360803757\n",
      "MSE Score: 7 : 164.48676457147428\n",
      "MSE Score: 8 : 1972.7618628160546\n",
      "MSE Score: 9 : 169.99584691250078\n",
      "Mean / Std: 586.8914290301853 / 853.2692852041613\n"
     ]
    }
   ],
   "source": [
    "concrete_data_columns = concrete_data.columns\n",
    "predictors = concrete_data[concrete_data_columns[concrete_data_columns != 'Strength']] # all columns except Strength\n",
    "target = concrete_data['Strength'] # Strength column\n",
    "\n",
    "NUM_ITERS = 50\n",
    "\n",
    "mse_arr = np.empty(NUM_ITERS, dtype = object)\n",
    "\n",
    "# loop start:\n",
    "for x in range(NUM_ITERS):\n",
    "\n",
    "    X_train, X_test, y_train, y_test = train_test_split(predictors, target, test_size=0.3, random_state=42)\n",
    "\n",
    "    n_cols = predictors.shape[1] # number of predictors\n",
    "\n",
    "    # build the model\n",
    "    model = regression_model(n_cols)\n",
    "\n",
    "    # fit the model\n",
    "    model.fit(X_train, y_train, epochs=50, verbose=0)\n",
    "\n",
    "    preds = model.predict(X_test)\n",
    "    mse_score = mean_squared_error(y_test, preds)\n",
    "    print(f\"MSE Score: {x} : {mse_score}\")\n",
    "    mse_arr[x] = mse_score\n",
    "\n",
    "# loop end.\n",
    "print(f\"Mean / Std: {mse_arr.mean()} / {mse_arr.std()}\")\n"
   ]
  },
  {
   "cell_type": "code",
   "execution_count": null,
   "id": "f81fbf68-9403-481f-9765-a94ef46629ab",
   "metadata": {},
   "outputs": [],
   "source": []
  }
 ],
 "metadata": {
  "kernelspec": {
   "display_name": "Python",
   "language": "python",
   "name": "conda-env-python-py"
  },
  "language_info": {
   "codemirror_mode": {
    "name": "ipython",
    "version": 3
   },
   "file_extension": ".py",
   "mimetype": "text/x-python",
   "name": "python",
   "nbconvert_exporter": "python",
   "pygments_lexer": "ipython3",
   "version": "3.7.12"
  }
 },
 "nbformat": 4,
 "nbformat_minor": 5
}
